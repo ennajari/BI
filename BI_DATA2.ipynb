{
 "cells": [
  {
   "cell_type": "code",
   "execution_count": 1,
   "id": "5880fffc",
   "metadata": {},
   "outputs": [],
   "source": [
    "import pandas as pd\n",
    "import numpy as np"
   ]
  },
  {
   "cell_type": "code",
   "execution_count": 2,
   "id": "a7a4cebe",
   "metadata": {},
   "outputs": [
    {
     "name": "stderr",
     "output_type": "stream",
     "text": [
      "C:\\Users\\Abdel\\AppData\\Local\\Temp\\ipykernel_8316\\1559772176.py:1: DtypeWarning: Columns (15) have mixed types. Specify dtype option on import or set low_memory=False.\n",
      "  df = pd.read_csv('data_BI_clean.csv')\n"
     ]
    }
   ],
   "source": [
    "df = pd.read_csv('data_BI_clean.csv')"
   ]
  },
  {
   "cell_type": "code",
   "execution_count": 3,
   "id": "f84ce77d",
   "metadata": {},
   "outputs": [],
   "source": [
    "# Fonction pour remplacer les espaces par NaN et supprimer\n",
    "def remplacer_espaces_par_nan_et_supprimer(dataframe, nom_colonne):\n",
    "    \"\"\"\n",
    "    Remplace les espaces vides dans une colonne par NaN et les supprime.\n",
    "    \n",
    "    Args:\n",
    "        dataframe (pandas.DataFrame): Le DataFrame à modifier\n",
    "        nom_colonne (str): Le nom de la colonne à traiter\n",
    "        \n",
    "    Returns:\n",
    "        pandas.DataFrame: Le DataFrame avec les valeurs NaN supprimées\n",
    "    \"\"\"\n",
    "    # Vérifier si la colonne existe\n",
    "    if nom_colonne not in dataframe.columns:\n",
    "        raise ValueError(f\"La colonne '{nom_colonne}' n'existe pas dans le DataFrame\")\n",
    "    \n",
    "    # Créer une copie pour éviter de modifier l'original\n",
    "    df_copy = dataframe.copy()\n",
    "    \n",
    "    # Remplacer les cellules contenant uniquement des espaces par NaN\n",
    "    df_copy[nom_colonne] = df_copy[nom_colonne].replace(r'^\\s*$', np.nan, regex=True)\n",
    "    \n",
    "    # Supprimer les lignes contenant NaN dans cette colonne\n",
    "    df_clean = df_copy.dropna(subset=[nom_colonne])\n",
    "    \n",
    "    return df_clean"
   ]
  },
  {
   "cell_type": "code",
   "execution_count": 5,
   "id": "a48a9f09",
   "metadata": {},
   "outputs": [],
   "source": [
    "df_propre = remplacer_espaces_par_nan_et_supprimer(df, \"date_vente\")"
   ]
  },
  {
   "cell_type": "code",
   "execution_count": 6,
   "id": "53f5dc4e",
   "metadata": {},
   "outputs": [
    {
     "name": "stdout",
     "output_type": "stream",
     "text": [
      "                  ID marque               modele  annee_fabrication  \\\n",
      "0  5xyktca69fg566472    kia              sorento               2015   \n",
      "1  5xyktca69fg561319    kia              sorento               2015   \n",
      "2  wba3c1c51ek116351    bmw             3 series               2014   \n",
      "3  yv1612tb4f1310987  volvo                  s60               2015   \n",
      "4  wba6b2c57ed129731    bmw  6 series gran coupe               2014   \n",
      "\n",
      "  carrosserie  etat_vehicule  kilometrage transmission couleur_exterieure  \\\n",
      "0         suv            5.0      16639.0    automatic              white   \n",
      "1         suv            5.0       9393.0    automatic              white   \n",
      "2       sedan           45.0       1331.0    automatic               gray   \n",
      "3       sedan           41.0      14282.0    automatic              white   \n",
      "4       sedan           43.0       2641.0    automatic               gray   \n",
      "\n",
      "  coluleur_interieur    finition                                 vendeur  \\\n",
      "0              black          lx                 kia motors america  inc   \n",
      "1              beige          lx                 kia motors america  inc   \n",
      "2              black  328i sulev  financial services remarketing (lease)   \n",
      "3              black          t5                 volvo na rep/world omni   \n",
      "4              black        650i  financial services remarketing (lease)   \n",
      "\n",
      "   valeur_estime  prix_vente etat_vente  date_vente  \n",
      "0        20500.0     21500.0         ca  16/12/2014  \n",
      "1        20800.0     21500.0         ca  16/12/2014  \n",
      "2        31900.0     30000.0         ca  15/01/2015  \n",
      "3        27500.0     27750.0         ca  29/01/2015  \n",
      "4        66000.0     67000.0         ca  18/12/2014  \n"
     ]
    }
   ],
   "source": [
    "print(df_propre.head())"
   ]
  },
  {
   "cell_type": "code",
   "execution_count": 7,
   "id": "c3aa294b",
   "metadata": {},
   "outputs": [],
   "source": [
    "df_propre.to_csv('data_BI_clean_propre.csv', index=False)"
   ]
  }
 ],
 "metadata": {
  "kernelspec": {
   "display_name": "base",
   "language": "python",
   "name": "python3"
  },
  "language_info": {
   "codemirror_mode": {
    "name": "ipython",
    "version": 3
   },
   "file_extension": ".py",
   "mimetype": "text/x-python",
   "name": "python",
   "nbconvert_exporter": "python",
   "pygments_lexer": "ipython3",
   "version": "3.12.9"
  }
 },
 "nbformat": 4,
 "nbformat_minor": 5
}
